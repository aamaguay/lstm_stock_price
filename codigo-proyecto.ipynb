{
 "cells": [
  {
   "cell_type": "code",
   "execution_count": 1,
   "metadata": {},
   "outputs": [
    {
     "name": "stderr",
     "output_type": "stream",
     "text": [
      "Using TensorFlow backend.\n"
     ]
    }
   ],
   "source": [
    "\n",
    "import matplotlib.pyplot as plt\n",
    "%matplotlib inline\n",
    "\n",
    "import numpy as np\n",
    "import os\n",
    "import sys\n",
    "import time\n",
    "import pandas as pd \n",
    "from tqdm._tqdm_notebook import tqdm_notebook\n",
    "import pickle\n",
    "from keras.models import Sequential, load_model\n",
    "from keras.layers import Dense, Dropout\n",
    "from keras.layers import LSTM\n",
    "from keras.callbacks import ModelCheckpoint, EarlyStopping, ReduceLROnPlateau, CSVLogger\n",
    "from keras import optimizers\n",
    "# from keras.wrappers.scikit_learn import KerasClassifier\n",
    "from sklearn.preprocessing import MinMaxScaler\n",
    "from sklearn.model_selection import train_test_split\n",
    "from sklearn.metrics import mean_squared_error\n",
    "import logging\n"
   ]
  },
  {
   "cell_type": "code",
   "execution_count": 2,
   "metadata": {},
   "outputs": [],
   "source": [
    "data= pd.read_excel('petroleo.xlsx', encoding='latin-1', sep=',')[::-1]\n",
    "data= data[(data['fecha']>= '2002-01-01')]\n",
    "data['var']= (data['var']*100)\n",
    "df_train= data.iloc[:3138,:]\n",
    "df_test = data.iloc[3138:,:]\n",
    "\n",
    "\n",
    "train_cols = [ \"ultimo\" , \"apertura\" , \"maximo\" , \"minimo\" , \"Vol\",'var' ]\n",
    "# scale the feature MinMax, build array\n",
    "x = df_train.loc[:,train_cols].values\n",
    "min_max_scaler = MinMaxScaler()\n",
    "x_train = min_max_scaler.fit_transform(x)\n",
    "x_test = min_max_scaler.transform(df_test.loc[:,train_cols])\n"
   ]
  },
  {
   "cell_type": "code",
   "execution_count": 821,
   "metadata": {},
   "outputs": [],
   "source": [
    "params = {\n",
    "    \"batch_size\": 60,  # 40(mejor) y 60 was a bust\n",
    "    \"epochs\": 15,\n",
    "    \"lr\": 0.00010000,\n",
    "    \"time_steps\": 10\n",
    "}\n",
    "\n",
    "TIME_STEPS = params[\"time_steps\"]\n",
    "BATCH_SIZE = params[\"batch_size\"]"
   ]
  },
  {
   "cell_type": "code",
   "execution_count": 822,
   "metadata": {},
   "outputs": [],
   "source": [
    "\n",
    "def trim_dataset(mat,batch_size):\n",
    "    \"\"\"\n",
    "    trims dataset to a size that's divisible by BATCH_SIZE\n",
    "    \"\"\"\n",
    "    no_of_rows_drop = mat.shape[0]%batch_size\n",
    "    if no_of_rows_drop > 0:\n",
    "        return mat[:-no_of_rows_drop]\n",
    "    else:\n",
    "        return mat\n",
    "# format time series\n",
    "# [ batch_size, time_steps, Features ]\n",
    "    \n",
    "\n",
    "def build_timeseries(mat, y_col_index):\n",
    "    \"\"\"\n",
    "    Converts ndarray into timeseries format and supervised data format. Takes first TIME_STEPS\n",
    "    number of rows as input and sets the TIME_STEPS+1th data as corresponding output and so on.\n",
    "    :param mat: ndarray which holds the dataset\n",
    "    :param y_col_index: index of column which acts as output\n",
    "    :return: returns two ndarrays-- input and output in format suitable to feed\n",
    "    to LSTM.\n",
    "    \"\"\"\n",
    "    # total number of time-series samples would be len(mat) - TIME_STEPS\n",
    "    dim_0 = mat.shape[0] - TIME_STEPS\n",
    "    dim_1 = mat.shape[1]\n",
    "    x = np.zeros((dim_0, TIME_STEPS, dim_1))\n",
    "    y = np.zeros((dim_0,))\n",
    "    print(\"dim_0\",dim_0)\n",
    "    for i in tqdm_notebook(range(dim_0)):\n",
    "        x[i] = mat[i:TIME_STEPS+i]\n",
    "        y[i] = mat[TIME_STEPS+i, y_col_index]\n",
    "#         if i < 10:\n",
    "#           print(i,\"-->\", x[i,-1,:], y[i])\n",
    "    print(\"length of time-series i/o\",x.shape,y.shape)\n",
    "    return x, y"
   ]
  },
  {
   "cell_type": "code",
   "execution_count": 823,
   "metadata": {},
   "outputs": [
    {
     "name": "stdout",
     "output_type": "stream",
     "text": [
      "Are any NaNs present in train/test matrices? False False\n",
      "dim_0 3128\n"
     ]
    },
    {
     "data": {
      "application/vnd.jupyter.widget-view+json": {
       "model_id": "9e7f874c12ee40edad5202e04e9fda03",
       "version_major": 2,
       "version_minor": 0
      },
      "text/plain": [
       "HBox(children=(IntProgress(value=0, max=3128), HTML(value='')))"
      ]
     },
     "metadata": {},
     "output_type": "display_data"
    },
    {
     "name": "stdout",
     "output_type": "stream",
     "text": [
      "\n",
      "length of time-series i/o (3128, 10, 6) (3128,)\n",
      "Batch trimmed size (3120, 10, 6) (3120,)\n"
     ]
    }
   ],
   "source": [
    "print(\"Are any NaNs present in train/test matrices?\",np.isnan(x_train).any(), np.isnan(x_train).any())\n",
    "x_t, y_t = build_timeseries(x_train, 3)\n",
    "x_t = trim_dataset(x_t, BATCH_SIZE)\n",
    "y_t = trim_dataset(y_t, BATCH_SIZE)\n",
    "print(\"Batch trimmed size\",x_t.shape, y_t.shape)\n"
   ]
  },
  {
   "cell_type": "code",
   "execution_count": 824,
   "metadata": {},
   "outputs": [],
   "source": [
    "def create_model():\n",
    "    lstm_model = Sequential()\n",
    "    # (batch_size, timesteps, data_dim)\n",
    "    lstm_model.add(LSTM(70 , batch_input_shape=(BATCH_SIZE, TIME_STEPS, x_t.shape[2]),\n",
    "                        dropout=0.0, recurrent_dropout=0.0, stateful=True, return_sequences=True,\n",
    "                        kernel_initializer='he_uniform'))\n",
    "    #lstm_model.add(Dropout(0.4))\n",
    "    lstm_model.add(LSTM(60, dropout=0.0))\n",
    "    #lstm_model.add(Dropout(0.6))\n",
    "    #lstm_model.add(Dense(40,activation='relu'))\n",
    "    #lstm_model.add(Dropout(0.5))\n",
    "    lstm_model.add(Dense(30,activation='relu'))\n",
    "    #lstm_model.add(Dropout(0.6))\n",
    "    lstm_model.add(Dense(20,activation='relu'))\n",
    "    lstm_model.add(Dense(1,activation='linear'))\n",
    "    optimizer = optimizers.RMSprop(lr=params[\"lr\"])\n",
    "    # optimizer = optimizers.SGD(lr=0.000001, decay=1e-6, momentum=0.9, nesterov=True)\n",
    "    lstm_model.compile(loss='mean_squared_error', optimizer=optimizer)\n",
    "    return lstm_model"
   ]
  },
  {
   "cell_type": "code",
   "execution_count": 825,
   "metadata": {},
   "outputs": [
    {
     "name": "stdout",
     "output_type": "stream",
     "text": [
      "Model not found\n"
     ]
    }
   ],
   "source": [
    "model = None\n",
    "try:\n",
    "    model = pickle.load(open(\"lstm_model\", 'rb'))\n",
    "    print(\"Loaded saved model...\")\n",
    "except FileNotFoundError:\n",
    "    print(\"Model not found\")"
   ]
  },
  {
   "cell_type": "code",
   "execution_count": 826,
   "metadata": {},
   "outputs": [
    {
     "name": "stdout",
     "output_type": "stream",
     "text": [
      "dim_0 1335\n"
     ]
    },
    {
     "data": {
      "application/vnd.jupyter.widget-view+json": {
       "model_id": "d70585084be4490e803c3b8e4bb2bdbe",
       "version_major": 2,
       "version_minor": 0
      },
      "text/plain": [
       "HBox(children=(IntProgress(value=0, max=1335), HTML(value='')))"
      ]
     },
     "metadata": {},
     "output_type": "display_data"
    },
    {
     "name": "stdout",
     "output_type": "stream",
     "text": [
      "\n",
      "length of time-series i/o (1335, 10, 6) (1335,)\n",
      "Batch trimmed size (660, 10, 6) (660,)\n",
      "Batch trimmed size (660, 10, 6) (660,)\n",
      "Test size (660, 10, 6) (660,) (660, 10, 6) (660,)\n"
     ]
    }
   ],
   "source": [
    "x_temp, y_temp = build_timeseries(x_test, 3)\n",
    "x_val, x_test_t = np.split(trim_dataset(x_temp, BATCH_SIZE),2)\n",
    "y_val, y_test_t = np.split(trim_dataset(y_temp, BATCH_SIZE),2)\n",
    "print(\"Batch trimmed size\",x_val.shape, y_val.shape)\n",
    "print(\"Batch trimmed size\",x_test_t.shape, y_test_t.shape)\n",
    "\n",
    "print(\"Test size\", x_test_t.shape, y_test_t.shape, x_val.shape, y_val.shape)"
   ]
  },
  {
   "cell_type": "code",
   "execution_count": 827,
   "metadata": {},
   "outputs": [],
   "source": [
    "stime = time.time()\n",
    "def print_time(text, stime):\n",
    "    seconds = (time.time()-stime)\n",
    "    print(text, seconds//60,\"minutes : \",np.round(seconds%60),\"seconds\")"
   ]
  },
  {
   "cell_type": "code",
   "execution_count": 828,
   "metadata": {},
   "outputs": [
    {
     "name": "stdout",
     "output_type": "stream",
     "text": [
      "Building model...\n",
      "checking if GPU available []\n",
      "Train on 3120 samples, validate on 660 samples\n",
      "Epoch 1/15\n",
      " - 61s - loss: 0.0254 - val_loss: 0.0618\n",
      "\n",
      "Epoch 00001: val_loss improved from inf to 0.06178, saving model to C:\\Users\\User\\Desktop\\deep-learning-project\\best_model.h5\n",
      "Epoch 2/15\n",
      " - 5s - loss: 0.0144 - val_loss: 0.0171\n",
      "\n",
      "Epoch 00002: val_loss improved from 0.06178 to 0.01711, saving model to C:\\Users\\User\\Desktop\\deep-learning-project\\best_model.h5\n",
      "Epoch 3/15\n",
      " - 5s - loss: 0.0046 - val_loss: 0.0031\n",
      "\n",
      "Epoch 00003: val_loss improved from 0.01711 to 0.00310, saving model to C:\\Users\\User\\Desktop\\deep-learning-project\\best_model.h5\n",
      "Epoch 4/15\n",
      " - 5s - loss: 0.0032 - val_loss: 0.0019\n",
      "\n",
      "Epoch 00004: val_loss improved from 0.00310 to 0.00192, saving model to C:\\Users\\User\\Desktop\\deep-learning-project\\best_model.h5\n",
      "Epoch 5/15\n",
      " - 5s - loss: 0.0028 - val_loss: 0.0016\n",
      "\n",
      "Epoch 00005: val_loss improved from 0.00192 to 0.00158, saving model to C:\\Users\\User\\Desktop\\deep-learning-project\\best_model.h5\n",
      "Epoch 6/15\n",
      " - 5s - loss: 0.0026 - val_loss: 0.0014\n",
      "\n",
      "Epoch 00006: val_loss improved from 0.00158 to 0.00140, saving model to C:\\Users\\User\\Desktop\\deep-learning-project\\best_model.h5\n",
      "Epoch 7/15\n",
      " - 5s - loss: 0.0024 - val_loss: 0.0012\n",
      "\n",
      "Epoch 00007: val_loss improved from 0.00140 to 0.00124, saving model to C:\\Users\\User\\Desktop\\deep-learning-project\\best_model.h5\n",
      "Epoch 8/15\n",
      " - 5s - loss: 0.0023 - val_loss: 0.0012\n",
      "\n",
      "Epoch 00008: val_loss improved from 0.00124 to 0.00115, saving model to C:\\Users\\User\\Desktop\\deep-learning-project\\best_model.h5\n",
      "Epoch 9/15\n",
      " - 5s - loss: 0.0021 - val_loss: 0.0011\n",
      "\n",
      "Epoch 00009: val_loss improved from 0.00115 to 0.00108, saving model to C:\\Users\\User\\Desktop\\deep-learning-project\\best_model.h5\n",
      "Epoch 10/15\n",
      " - 5s - loss: 0.0020 - val_loss: 9.9002e-04\n",
      "\n",
      "Epoch 00010: val_loss improved from 0.00108 to 0.00099, saving model to C:\\Users\\User\\Desktop\\deep-learning-project\\best_model.h5\n",
      "Epoch 11/15\n",
      " - 5s - loss: 0.0019 - val_loss: 9.4423e-04\n",
      "\n",
      "Epoch 00011: val_loss improved from 0.00099 to 0.00094, saving model to C:\\Users\\User\\Desktop\\deep-learning-project\\best_model.h5\n",
      "Epoch 12/15\n",
      " - 5s - loss: 0.0018 - val_loss: 8.8294e-04\n",
      "\n",
      "Epoch 00012: val_loss improved from 0.00094 to 0.00088, saving model to C:\\Users\\User\\Desktop\\deep-learning-project\\best_model.h5\n",
      "Epoch 13/15\n",
      " - 5s - loss: 0.0017 - val_loss: 8.5338e-04\n",
      "\n",
      "Epoch 00013: val_loss improved from 0.00088 to 0.00085, saving model to C:\\Users\\User\\Desktop\\deep-learning-project\\best_model.h5\n",
      "Epoch 14/15\n",
      " - 5s - loss: 0.0016 - val_loss: 8.0055e-04\n",
      "\n",
      "Epoch 00014: val_loss improved from 0.00085 to 0.00080, saving model to C:\\Users\\User\\Desktop\\deep-learning-project\\best_model.h5\n",
      "Epoch 15/15\n",
      " - 5s - loss: 0.0016 - val_loss: 7.7445e-04\n",
      "\n",
      "Epoch 00015: val_loss improved from 0.00080 to 0.00077, saving model to C:\\Users\\User\\Desktop\\deep-learning-project\\best_model.h5\n",
      "saving model...\n"
     ]
    }
   ],
   "source": [
    "is_update_model = True\n",
    "if model is None or is_update_model:\n",
    "    from keras import backend as K\n",
    "    print(\"Building model...\")\n",
    "    print(\"checking if GPU available\", K.tensorflow_backend._get_available_gpus())\n",
    "    model = create_model()\n",
    "    \n",
    "    es = EarlyStopping(monitor='val_loss', mode='min', verbose=1,\n",
    "                       patience=40, min_delta=0.0001)\n",
    "    \n",
    "    # filepath='/tmp/weights.hdf5'\n",
    "    mcp = ModelCheckpoint(os.path.join(os.getcwd(),\"best_model.h5\"),\n",
    "                           monitor='val_loss', verbose=1,\n",
    "                          save_best_only=True, save_weights_only=False, mode='min', period=1)\n",
    "        \n",
    "    #csv_logger = CSVLogger( , append=True)\n",
    "    #csv_logger = CSVLogger(os.path.join('./deep-learning-project/', 'training_log_' + time.ctime().replace(\" \",\"_\") + '.log'), append=True)\n",
    "    csv_logger = CSVLogger('training.log', append=True)\n",
    "    \n",
    "    \n",
    "    history = model.fit(x_t, y_t, epochs=params[\"epochs\"], verbose=2, batch_size=BATCH_SIZE,\n",
    "                        shuffle=False, validation_data=(trim_dataset(x_val, BATCH_SIZE),\n",
    "                        trim_dataset(y_val, BATCH_SIZE)), callbacks=[es, mcp, csv_logger])\n",
    "    \n",
    "    print(\"saving model...\")\n",
    "    pickle.dump(model, open(\"lstm_model\", \"wb\"))\n",
    "    \n",
    "      \n",
    "    "
   ]
  },
  {
   "cell_type": "code",
   "execution_count": 829,
   "metadata": {},
   "outputs": [
    {
     "name": "stdout",
     "output_type": "stream",
     "text": [
      "Error is 0.0013763977865202373 (660,) (660,)\n",
      "[0.28872243 0.28519237 0.28087547 0.2780999  0.27421132 0.26702923\n",
      " 0.25564206 0.24977908 0.2487326  0.2561884  0.26847416 0.26426083\n",
      " 0.27048418 0.27440616 0.27751085]\n",
      "[0.27359017 0.27869506 0.28292255 0.27047938 0.26210417 0.26242323\n",
      " 0.27335088 0.27454734 0.27550451 0.27343065 0.27335088 0.26369945\n",
      " 0.26457685 0.26752812 0.27406876]\n"
     ]
    }
   ],
   "source": [
    "y_pred = model.predict(trim_dataset(x_test_t, BATCH_SIZE), batch_size=BATCH_SIZE)\n",
    "y_pred = y_pred.flatten()\n",
    "y_test_t = trim_dataset(y_test_t, BATCH_SIZE)\n",
    "error = mean_squared_error(y_test_t, y_pred)\n",
    "print(\"Error is\", error, y_pred.shape, y_test_t.shape)\n",
    "print(y_pred[0:15])\n",
    "print(y_test_t[0:15])"
   ]
  },
  {
   "cell_type": "code",
   "execution_count": 830,
   "metadata": {},
   "outputs": [
    {
     "name": "stdout",
     "output_type": "stream",
     "text": [
      "[54.047134 53.60457  53.063362 52.715385 52.227875 51.327454 49.89985\n",
      " 49.164803 49.033607 49.968338 51.508606 50.980385 51.760605 52.252304\n",
      " 52.641533]\n",
      "[52.15 52.79 53.32 51.76 50.71 50.75 52.12 52.27 52.39 52.13 52.12 50.91\n",
      " 51.02 51.39 52.21]\n"
     ]
    }
   ],
   "source": [
    "# convert the predicted value to range of real data\n",
    "y_pred_org = (y_pred * min_max_scaler.data_range_[3]) + min_max_scaler.data_min_[3]\n",
    "# min_max_scaler.inverse_transform(y_pred)\n",
    "y_test_t_org = (y_test_t * min_max_scaler.data_range_[3]) + min_max_scaler.data_min_[3]\n",
    "# min_max_scaler.inverse_transform(y_test_t)\n",
    "print(y_pred_org[0:15])\n",
    "print(y_test_t_org[0:15])"
   ]
  },
  {
   "cell_type": "code",
   "execution_count": 831,
   "metadata": {},
   "outputs": [
    {
     "data": {
      "image/png": "[encoded data removed]",
      "text/plain": [
       "<Figure size 432x288 with 1 Axes>"
      ]
     },
     "metadata": {
      "needs_background": "light"
     },
     "output_type": "display_data"
    }
   ],
   "source": [
    "plt.figure()\n",
    "plt.plot(history.history['loss'])\n",
    "plt.plot(history.history['val_loss'])\n",
    "plt.title('Model loss')\n",
    "plt.ylabel('Loss')\n",
    "plt.xlabel('Epoch')\n",
    "plt.legend(['Train', 'Test'], loc='best')\n",
    "plt.show()"
   ]
  },
  {
   "cell_type": "code",
   "execution_count": 832,
   "metadata": {},
   "outputs": [],
   "source": [
    "saved_model = load_model(os.path.join(os.getcwd(), 'best_model.h5')) # , \"lstm_best_7-3-19_12AM\",\n",
    "#print(saved_model)"
   ]
  },
  {
   "cell_type": "code",
   "execution_count": 833,
   "metadata": {},
   "outputs": [
    {
     "name": "stdout",
     "output_type": "stream",
     "text": [
      "Error is 0.0014784750501341982 (660,) (660,)\n",
      "[0.26494586 0.26313174 0.2598641  0.2558748  0.24817073 0.24012649\n",
      " 0.22678992 0.22064143 0.21875983 0.22233725 0.23265564 0.22906667\n",
      " 0.23465046 0.2393856  0.24491367]\n",
      "[0.27359017 0.27869506 0.28292255 0.27047938 0.26210417 0.26242323\n",
      " 0.27335088 0.27454734 0.27550451 0.27343065 0.27335088 0.26369945\n",
      " 0.26457685 0.26752812 0.27406876]\n",
      "[51.06626  50.83883  50.42916  49.929024 48.963165 47.95466  46.282654\n",
      " 45.511818 45.27592  45.724422 47.01804  46.56809  47.268127 47.861774\n",
      " 48.554825]\n",
      "[52.15 52.79 53.32 51.76 50.71 50.75 52.12 52.27 52.39 52.13 52.12 50.91\n",
      " 51.02 51.39 52.21]\n"
     ]
    }
   ],
   "source": [
    "y_pred = saved_model.predict(trim_dataset(x_test_t, BATCH_SIZE), batch_size=BATCH_SIZE)\n",
    "y_pred = y_pred.flatten()\n",
    "y_test_t = trim_dataset(y_test_t, BATCH_SIZE)\n",
    "error = mean_squared_error(y_test_t, y_pred)\n",
    "print(\"Error is\", error, y_pred.shape, y_test_t.shape)\n",
    "print(y_pred[0:15])\n",
    "print(y_test_t[0:15])\n",
    "y_pred_org = (y_pred * min_max_scaler.data_range_[3]) + min_max_scaler.data_min_[3] # min_max_scaler.inverse_transform(y_pred)\n",
    "y_test_t_org = (y_test_t * min_max_scaler.data_range_[3]) + min_max_scaler.data_min_[3] # min_max_scaler.inverse_transform(y_test_t)\n",
    "print(y_pred_org[0:15])\n",
    "print(y_test_t_org[0:15])"
   ]
  },
  {
   "cell_type": "code",
   "execution_count": 834,
   "metadata": {},
   "outputs": [
    {
     "data": {
      "image/png": "[encoded data removed]",
      "text/plain": [
       "<Figure size 432x288 with 1 Axes>"
      ]
     },
     "metadata": {
      "needs_background": "light"
     },
     "output_type": "display_data"
    }
   ],
   "source": [
    "plt.figure()\n",
    "plt.plot(y_pred_org)\n",
    "plt.plot(y_test_t_org)\n",
    "plt.title('Prediction vs Real Stock Price')\n",
    "plt.ylabel('Price')\n",
    "plt.xlabel('Days')\n",
    "plt.legend(['Prediction', 'Real'], loc='best')\n",
    "plt.show()"
   ]
  },
  {
   "cell_type": "markdown",
   "metadata": {},
   "source": [
    "ARIMA -LSTM"
   ]
  },
  {
   "cell_type": "code",
   "execution_count": 846,
   "metadata": {},
   "outputs": [],
   "source": [
    "df = pd.read_excel('dataarimapred.xlsx', sep=',')\n",
    "df['error']= (df['minimo']-df['pred'])\n",
    "df.set_index ('fecha', inplace=True)\n",
    "dftrain= df.iloc[:3138,3:4]\n",
    "dftest= df.iloc[3138:,3:4]"
   ]
  },
  {
   "cell_type": "code",
   "execution_count": 897,
   "metadata": {},
   "outputs": [],
   "source": [
    "traincols = [\"error\"]\n",
    "# scale the feature MinMax, build array\n",
    "x_error = dftrain.loc[:,traincols].values\n",
    "min_max_scaler_error = MinMaxScaler()\n",
    "xtrain = min_max_scaler_error.fit_transform(x_error)\n",
    "xtest = min_max_scaler_error.transform(dftest.loc[:,traincols])"
   ]
  },
  {
   "cell_type": "code",
   "execution_count": 1066,
   "metadata": {},
   "outputs": [],
   "source": [
    "params_error = {\n",
    "    \"batch_size\": 70,  # 40(mejor) y 60 was a bust\n",
    "    \"epochs\": 10,\n",
    "    \"lr\": 0.00010000,\n",
    "    \"time_steps\": 14\n",
    "}\n",
    "\n",
    "TIME_STEPS_error = params_error[\"time_steps\"]\n",
    "BATCH_SIZE_error = params_error[\"batch_size\"]"
   ]
  },
  {
   "cell_type": "code",
   "execution_count": 1067,
   "metadata": {},
   "outputs": [],
   "source": [
    "\n",
    "def trim_dataset_error(mat_error,batch_size_error):\n",
    "    \"\"\"\n",
    "    trims dataset to a size that's divisible by BATCH_SIZE\n",
    "    \"\"\"\n",
    "    no_of_rows_drop_error = mat_error.shape[0]%batch_size_error\n",
    "    if no_of_rows_drop_error > 0:\n",
    "        return mat_error[:-no_of_rows_drop_error]\n",
    "    else:\n",
    "        return mat_error\n",
    "# format time series\n",
    "# [ batch_size, time_steps, Features ]\n",
    "    \n",
    "\n",
    "def build_timeseries_error(mat_error, y_col_index_error):\n",
    "    \"\"\"\n",
    "    Converts ndarray into timeseries format and supervised data format. Takes first TIME_STEPS\n",
    "    number of rows as input and sets the TIME_STEPS+1th data as corresponding output and so on.\n",
    "    :param mat: ndarray which holds the dataset\n",
    "    :param y_col_index: index of column which acts as output\n",
    "    :return: returns two ndarrays-- input and output in format suitable to feed\n",
    "    to LSTM.\n",
    "    \"\"\"\n",
    "    # total number of time-series samples would be len(mat) - TIME_STEPS\n",
    "    dim_0_error = mat_error.shape[0] - TIME_STEPS_error\n",
    "    dim_1_error = mat_error.shape[1]\n",
    "    x_error = np.zeros((dim_0_error, TIME_STEPS_error, dim_1_error))\n",
    "    y_error = np.zeros((dim_0_error,))\n",
    "    print(\"dim_0\",dim_0_error)\n",
    "    for i_error in tqdm_notebook(range(dim_0_error)):\n",
    "        x_error[i_error] = mat_error[i_error:TIME_STEPS_error+i_error]\n",
    "        y_error[i_error] = mat_error[TIME_STEPS_error+i_error, y_col_index_error]\n",
    "#         if i < 10:\n",
    "#           print(i,\"-->\", x[i,-1,:], y[i])\n",
    "    print(\"length of time-series i/o\",x_error.shape,y_error.shape)\n",
    "    return x_error, y_error"
   ]
  },
  {
   "cell_type": "code",
   "execution_count": 1068,
   "metadata": {},
   "outputs": [
    {
     "name": "stdout",
     "output_type": "stream",
     "text": [
      "Are any NaNs present in train/test matrices? False False\n",
      "dim_0 3124\n"
     ]
    },
    {
     "data": {
      "application/vnd.jupyter.widget-view+json": {
       "model_id": "67880ae98c154a55896f0b625fc9e735",
       "version_major": 2,
       "version_minor": 0
      },
      "text/plain": [
       "HBox(children=(IntProgress(value=0, max=3124), HTML(value='')))"
      ]
     },
     "metadata": {},
     "output_type": "display_data"
    },
    {
     "name": "stdout",
     "output_type": "stream",
     "text": [
      "\n",
      "length of time-series i/o (3124, 14, 1) (3124,)\n",
      "Batch trimmed size (3080, 14, 1) (3080,)\n"
     ]
    }
   ],
   "source": [
    "print(\"Are any NaNs present in train/test matrices?\",np.isnan(xtrain).any(), np.isnan(xtrain).any())\n",
    "x_t_error, y_t_error = build_timeseries_error(xtrain, 0)\n",
    "x_t_error = trim_dataset_error(x_t_error, BATCH_SIZE_error)\n",
    "y_t_error = trim_dataset_error(y_t_error, BATCH_SIZE_error)\n",
    "print(\"Batch trimmed size\",x_t_error.shape, y_t_error.shape)"
   ]
  },
  {
   "cell_type": "code",
   "execution_count": null,
   "metadata": {},
   "outputs": [],
   "source": []
  },
  {
   "cell_type": "code",
   "execution_count": 1069,
   "metadata": {},
   "outputs": [],
   "source": [
    "def create_model_error():\n",
    "    lstm_model_error = Sequential()\n",
    "    # (batch_size, timesteps, data_dim)\n",
    "    lstm_model_error.add(LSTM(90 , batch_input_shape=(BATCH_SIZE_error, TIME_STEPS_error, x_t_error.shape[2]),\n",
    "                        dropout=0.0, recurrent_dropout=0.0, stateful=True, return_sequences=True,\n",
    "                        kernel_initializer='he_uniform'))\n",
    "    #lstm_model_error.add(Dropout(0.4))\n",
    "    lstm_model_error.add(LSTM(70, dropout=0.0))\n",
    "    #lstm_model_error.add(Dropout(0.4))\n",
    "    #lstm_model.add(Dense(40,activation='relu'))\n",
    "    #lstm_model_error.add(Dropout(0.4))\n",
    "    lstm_model_error.add(Dense(40,activation='relu'))\n",
    "    #lstm_model_error.add(Dropout(0.4))\n",
    "    #lstm_model_error.add(Dense(20,activation='relu'))\n",
    "    lstm_model_error.add(Dense(1,activation='linear'))\n",
    "    optimizer_error = optimizers.RMSprop(lr=params_error[\"lr\"])\n",
    "    # optimizer = optimizers.SGD(lr=0.000001, decay=1e-6, momentum=0.9, nesterov=True)\n",
    "    lstm_model_error.compile(loss='mean_squared_error', optimizer=optimizer_error)\n",
    "    return lstm_model_error"
   ]
  },
  {
   "cell_type": "code",
   "execution_count": 1070,
   "metadata": {},
   "outputs": [
    {
     "name": "stdout",
     "output_type": "stream",
     "text": [
      "Loaded saved model...\n"
     ]
    }
   ],
   "source": [
    "model_error = None\n",
    "try:\n",
    "    model_error = pickle.load(open(\"lstm_model_error\", 'rb'))\n",
    "    print(\"Loaded saved model...\")\n",
    "except FileNotFoundError:\n",
    "    print(\"Model not found\")"
   ]
  },
  {
   "cell_type": "code",
   "execution_count": null,
   "metadata": {},
   "outputs": [],
   "source": []
  },
  {
   "cell_type": "code",
   "execution_count": 1071,
   "metadata": {},
   "outputs": [
    {
     "name": "stdout",
     "output_type": "stream",
     "text": [
      "dim_0 1331\n"
     ]
    },
    {
     "data": {
      "application/vnd.jupyter.widget-view+json": {
       "model_id": "8cb98c8b6a7f4f7da84f8b6f91237dc3",
       "version_major": 2,
       "version_minor": 0
      },
      "text/plain": [
       "HBox(children=(IntProgress(value=0, max=1331), HTML(value='')))"
      ]
     },
     "metadata": {},
     "output_type": "display_data"
    },
    {
     "name": "stdout",
     "output_type": "stream",
     "text": [
      "\n",
      "length of time-series i/o (1331, 14, 1) (1331,)\n",
      "Batch trimmed size (665, 14, 1) (665,)\n",
      "Batch trimmed size (665, 14, 1) (665,)\n",
      "Test size (665, 14, 1) (665,) (665, 14, 1) (665,)\n"
     ]
    }
   ],
   "source": [
    "x_temp_error, y_temp_error = build_timeseries_error(xtest, 0)\n",
    "x_val_error, x_test_t_error = np.split(trim_dataset_error(x_temp_error, BATCH_SIZE_error),2)\n",
    "y_val_error, y_test_t_error = np.split(trim_dataset_error(y_temp_error, BATCH_SIZE_error),2)\n",
    "print(\"Batch trimmed size\",x_val_error.shape, y_val_error.shape)\n",
    "print(\"Batch trimmed size\",x_test_t_error.shape, y_test_t_error.shape)\n",
    "\n",
    "print(\"Test size\", x_test_t_error.shape, y_test_t_error.shape, x_val_error.shape, y_val_error.shape)"
   ]
  },
  {
   "cell_type": "code",
   "execution_count": 1072,
   "metadata": {},
   "outputs": [
    {
     "name": "stdout",
     "output_type": "stream",
     "text": [
      "Building model...\n",
      "checking if GPU available []\n",
      "Train on 3080 samples, validate on 630 samples\n",
      "Epoch 1/10\n",
      " - 107s - loss: 0.0415 - val_loss: 0.0033\n",
      "\n",
      "Epoch 00001: val_loss improved from inf to 0.00326, saving model to C:\\Users\\User\\Desktop\\deep-learning-project\\best_model_error.h5\n",
      "Epoch 2/10\n",
      " - 7s - loss: 0.0049 - val_loss: 0.0040\n",
      "\n",
      "Epoch 00002: val_loss did not improve from 0.00326\n",
      "Epoch 3/10\n",
      " - 7s - loss: 0.0050 - val_loss: 0.0040\n",
      "\n",
      "Epoch 00003: val_loss did not improve from 0.00326\n",
      "Epoch 4/10\n",
      " - 7s - loss: 0.0049 - val_loss: 0.0041\n",
      "\n",
      "Epoch 00004: val_loss did not improve from 0.00326\n",
      "Epoch 5/10\n",
      " - 7s - loss: 0.0049 - val_loss: 0.0042\n",
      "\n",
      "Epoch 00005: val_loss did not improve from 0.00326\n",
      "Epoch 6/10\n",
      " - 7s - loss: 0.0049 - val_loss: 0.0041\n",
      "\n",
      "Epoch 00006: val_loss did not improve from 0.00326\n",
      "Epoch 7/10\n",
      " - 7s - loss: 0.0049 - val_loss: 0.0040\n",
      "\n",
      "Epoch 00007: val_loss did not improve from 0.00326\n",
      "Epoch 8/10\n",
      " - 7s - loss: 0.0049 - val_loss: 0.0040\n",
      "\n",
      "Epoch 00008: val_loss did not improve from 0.00326\n",
      "Epoch 9/10\n",
      " - 7s - loss: 0.0049 - val_loss: 0.0040\n",
      "\n",
      "Epoch 00009: val_loss did not improve from 0.00326\n",
      "Epoch 10/10\n",
      " - 8s - loss: 0.0049 - val_loss: 0.0040\n",
      "\n",
      "Epoch 00010: val_loss did not improve from 0.00326\n",
      "saving model...\n"
     ]
    }
   ],
   "source": [
    "is_update_model_error = True\n",
    "if model_error is None or is_update_model_error:\n",
    "    from keras import backend as K\n",
    "    print(\"Building model...\")\n",
    "    print(\"checking if GPU available\", K.tensorflow_backend._get_available_gpus())\n",
    "    model_error = create_model_error()\n",
    "    \n",
    "    es_error = EarlyStopping(monitor='val_loss', mode='min', verbose=1,\n",
    "                       patience=40, min_delta=0.0001)\n",
    "    \n",
    "    # filepath='/tmp/weights.hdf5'\n",
    "    mcp_error = ModelCheckpoint(os.path.join(os.getcwd(),\"best_model_error.h5\"),\n",
    "                           monitor='val_loss', verbose=1,\n",
    "                          save_best_only=True, save_weights_only=False, mode='min', period=1)\n",
    "        \n",
    "    #csv_logger = CSVLogger( , append=True)\n",
    "    #csv_logger = CSVLogger(os.path.join('./deep-learning-project/', 'training_log_' + time.ctime().replace(\" \",\"_\") + '.log'), append=True)\n",
    "    csv_logger_error = CSVLogger('training_error.log', append=True)\n",
    "    \n",
    "    \n",
    "    history_error = model_error.fit(x_t_error, y_t_error, epochs=params_error[\"epochs\"], verbose=2, batch_size=BATCH_SIZE_error,\n",
    "                        shuffle=False, validation_data=(trim_dataset_error(x_val_error, BATCH_SIZE_error),\n",
    "                        trim_dataset_error(y_val_error, BATCH_SIZE_error)), callbacks=[es_error, mcp_error, csv_logger_error])\n",
    "    \n",
    "    print(\"saving model...\")\n",
    "    pickle.dump(model_error, open(\"lstm_model_error\", \"wb\"))\n",
    "    "
   ]
  },
  {
   "cell_type": "code",
   "execution_count": 1073,
   "metadata": {},
   "outputs": [
    {
     "name": "stdout",
     "output_type": "stream",
     "text": [
      "Error is 0.002822904987758963 (630,) (630,)\n"
     ]
    }
   ],
   "source": [
    "y_pred_error = model_error.predict(trim_dataset(x_test_t_error, BATCH_SIZE_error), batch_size=BATCH_SIZE_error)\n",
    "y_pred_error = y_pred_error.flatten()\n",
    "y_test_t_error = trim_dataset(y_test_t_error, BATCH_SIZE_error)\n",
    "error_error = mean_squared_error(y_test_t_error, y_pred_error)\n",
    "print(\"Error is\", error_error, y_pred_error.shape, y_test_t_error.shape)"
   ]
  },
  {
   "cell_type": "code",
   "execution_count": null,
   "metadata": {},
   "outputs": [],
   "source": []
  },
  {
   "cell_type": "code",
   "execution_count": 1074,
   "metadata": {},
   "outputs": [],
   "source": [
    "# convert the predicted value to range of real data\n",
    "y_pred_org_error = (y_pred_error * min_max_scaler_error.data_range_[0]) + min_max_scaler_error.data_min_[0]\n",
    "# min_max_scaler.inverse_transform(y_pred)\n",
    "y_test_t_org_error = (y_test_t_error * min_max_scaler_error.data_range_[0]) + min_max_scaler_error.data_min_[0]\n",
    "# min_max_scaler.inverse_transform(y_test_t)"
   ]
  },
  {
   "cell_type": "code",
   "execution_count": 1075,
   "metadata": {},
   "outputs": [
    {
     "data": {
      "image/png": "[encoded data removed]",
      "text/plain": [
       "<Figure size 504x504 with 1 Axes>"
      ]
     },
     "metadata": {
      "needs_background": "light"
     },
     "output_type": "display_data"
    }
   ],
   "source": [
    "plt.figure(figsize = (7,7))\n",
    "plt.plot(history_error.history['loss'])\n",
    "plt.plot(history_error.history['val_loss'])\n",
    "plt.title('Model loss')\n",
    "plt.ylabel('Loss')\n",
    "plt.xlabel('Epoch')\n",
    "plt.legend(['Train', 'Test'], loc='best')\n",
    "plt.show()"
   ]
  },
  {
   "cell_type": "code",
   "execution_count": 1011,
   "metadata": {},
   "outputs": [],
   "source": [
    "saved_model_error = load_model(os.path.join(os.getcwd(), 'best_model_error.h5'))"
   ]
  },
  {
   "cell_type": "code",
   "execution_count": 1012,
   "metadata": {},
   "outputs": [
    {
     "name": "stdout",
     "output_type": "stream",
     "text": [
      "Error is 0.013922188327590606 (660,) (660,)\n"
     ]
    }
   ],
   "source": [
    "y_pred_error = saved_model_error.predict(trim_dataset(x_test_t_error, BATCH_SIZE_error), batch_size=BATCH_SIZE_error)\n",
    "y_pred_error = y_pred_error.flatten()\n",
    "y_test_t_error = trim_dataset(y_test_t_error, BATCH_SIZE_error)\n",
    "error_error = mean_squared_error(y_test_t_error, y_pred_error)\n",
    "print(\"Error is\", error_error, y_pred_error.shape, y_test_t_error.shape)\n",
    "\n",
    "y_pred_org_error = (y_pred_error * min_max_scaler.data_range_[0]) + min_max_scaler.data_min_[0] # min_max_scaler.inverse_transform(y_pred)\n",
    "y_test_t_org_error = (y_test_t_error * min_max_scaler.data_range_[0]) + min_max_scaler.data_min_[0] # min_max_scaler.inverse_transform(y_test_t)\n",
    "\n"
   ]
  },
  {
   "cell_type": "code",
   "execution_count": 1026,
   "metadata": {},
   "outputs": [
    {
     "data": {
      "image/png": "[encoded data removed]",
      "text/plain": [
       "<Figure size 648x648 with 1 Axes>"
      ]
     },
     "metadata": {
      "needs_background": "light"
     },
     "output_type": "display_data"
    }
   ],
   "source": [
    "plt.figure(figsize = (9,9))\n",
    "plt.plot(y_pred_org_error)\n",
    "plt.plot(y_test_t_org_error)\n",
    "plt.title('Prediction vs Real Stock Price')\n",
    "plt.ylabel('Price')\n",
    "plt.xlabel('Days')\n",
    "plt.legend(['Prediction', 'Real'], loc='best')\n",
    "plt.show()"
   ]
  },
  {
   "cell_type": "code",
   "execution_count": 1035,
   "metadata": {},
   "outputs": [],
   "source": [
    "#y_pred_error"
   ]
  },
  {
   "cell_type": "code",
   "execution_count": 1034,
   "metadata": {},
   "outputs": [],
   "source": [
    "#y_test_t_error"
   ]
  }
 ],
 "metadata": {
  "kernelspec": {
   "display_name": "Python 3",
   "language": "python",
   "name": "python3"
  },
  "language_info": {
   "codemirror_mode": {
    "name": "ipython",
    "version": 3
   },
   "file_extension": ".py",
   "mimetype": "text/x-python",
   "name": "python",
   "nbconvert_exporter": "python",
   "pygments_lexer": "ipython3",
   "version": "3.6.8"
  }
 },
 "nbformat": 4,
 "nbformat_minor": 2
}
